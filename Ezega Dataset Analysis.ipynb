{
 "cells": [
  {
   "cell_type": "markdown",
   "id": "0dcfab92",
   "metadata": {},
   "source": [
    "# Ezega Data Analysis\n",
    "\n",
    "Author: [Meheret Samuel](https://github.com/senadev42)\n",
    "\n",
    "<hr>\n",
    "\n",
    "### The Pre-amble\n",
    "A few months ago a friend of mine, [Kidus](https://github.com/kidesleo),  decided to scrape ezega.com, which is a sort of index for bussinesses in ethiopia. The result was a jsonl file with about 8k entries that I've been sitting on with the vague goal of looking into but not finding the time to.\n",
    "\n",
    "Finally have time now, and while doing data analysis with clean datasets taken off the internet has been fun, it's not time to work with something dirty and real.\n"
   ]
  },
  {
   "cell_type": "markdown",
   "id": "7cacfc79",
   "metadata": {},
   "source": [
    "## Setting Up\n",
    "\n",
    "First let's import the libraries we're going to be using."
   ]
  },
  {
   "cell_type": "code",
   "execution_count": 1,
   "id": "72a842d4",
   "metadata": {},
   "outputs": [],
   "source": [
    "import pandas as pd\n",
    "import re"
   ]
  },
  {
   "cell_type": "markdown",
   "id": "b70f614f",
   "metadata": {},
   "source": [
    "And then the file itself, setting lines=True to indicate that newlines are being used as a delimiter here because this is jsonl."
   ]
  },
  {
   "cell_type": "code",
   "execution_count": 2,
   "id": "e31e0679",
   "metadata": {},
   "outputs": [],
   "source": [
    "df = pd.read_json('ezega_data.jsonl', lines=True)"
   ]
  },
  {
   "cell_type": "markdown",
   "id": "a1de98a8",
   "metadata": {},
   "source": [
    "Now let's take a peek at our data set."
   ]
  },
  {
   "cell_type": "code",
   "execution_count": 3,
   "id": "02ae8583",
   "metadata": {
    "scrolled": false
   },
   "outputs": [
    {
     "data": {
      "text/html": [
       "<div>\n",
       "<style scoped>\n",
       "    .dataframe tbody tr th:only-of-type {\n",
       "        vertical-align: middle;\n",
       "    }\n",
       "\n",
       "    .dataframe tbody tr th {\n",
       "        vertical-align: top;\n",
       "    }\n",
       "\n",
       "    .dataframe thead th {\n",
       "        text-align: right;\n",
       "    }\n",
       "</style>\n",
       "<table border=\"1\" class=\"dataframe\">\n",
       "  <thead>\n",
       "    <tr style=\"text-align: right;\">\n",
       "      <th></th>\n",
       "      <th>business_title</th>\n",
       "      <th>business_image</th>\n",
       "      <th>business_location</th>\n",
       "      <th>business_url</th>\n",
       "      <th>business_description</th>\n",
       "      <th>business_numbers</th>\n",
       "      <th>ezega_url</th>\n",
       "      <th>category</th>\n",
       "      <th>sub_category</th>\n",
       "    </tr>\n",
       "  </thead>\n",
       "  <tbody>\n",
       "    <tr>\n",
       "      <th>0</th>\n",
       "      <td>Bagel Corner Bakery</td>\n",
       "      <td>https://businessguide.ezega.com/images/noimage...</td>\n",
       "      <td>Addis Ababa</td>\n",
       "      <td>None</td>\n",
       "      <td>None</td>\n",
       "      <td>[0116513067, 0911455510, +251116352780, 011550...</td>\n",
       "      <td>https://businessguide.ezega.com/Default.aspx?a...</td>\n",
       "      <td>Auto</td>\n",
       "      <td>Resources</td>\n",
       "    </tr>\n",
       "    <tr>\n",
       "      <th>1</th>\n",
       "      <td>AWASH BAR &amp; RESTURANT</td>\n",
       "      <td>https://businessguide.ezega.com/images/noimage...</td>\n",
       "      <td>Mekelle</td>\n",
       "      <td>None</td>\n",
       "      <td>None</td>\n",
       "      <td>[0344402815, 0344418248, 0344415657]</td>\n",
       "      <td>https://businessguide.ezega.com/Default.aspx?a...</td>\n",
       "      <td>Auto</td>\n",
       "      <td>Resources</td>\n",
       "    </tr>\n",
       "    <tr>\n",
       "      <th>2</th>\n",
       "      <td>BITMAS General Trading PLC</td>\n",
       "      <td>https://businessguide.ezega.com/images/noimage...</td>\n",
       "      <td>Ras Desta Damtwe St. NTO Building, 3rd floor, ...</td>\n",
       "      <td>None</td>\n",
       "      <td>None</td>\n",
       "      <td>[+251115501364, +251911516445+2510911133182, +...</td>\n",
       "      <td>https://businessguide.ezega.com/Default.aspx?a...</td>\n",
       "      <td>Auto</td>\n",
       "      <td>Water Services</td>\n",
       "    </tr>\n",
       "    <tr>\n",
       "      <th>3</th>\n",
       "      <td>ROB VIDEO</td>\n",
       "      <td>https://businessguide.ezega.com/images/noimage...</td>\n",
       "      <td>Mekelle</td>\n",
       "      <td>None</td>\n",
       "      <td>None</td>\n",
       "      <td>[0344400112]</td>\n",
       "      <td>https://businessguide.ezega.com/Default.aspx?a...</td>\n",
       "      <td>Auto</td>\n",
       "      <td>Water Services</td>\n",
       "    </tr>\n",
       "    <tr>\n",
       "      <th>4</th>\n",
       "      <td>Tesfa PLWHA Association</td>\n",
       "      <td>https://businessguide.ezega.com/images/noimage...</td>\n",
       "      <td>Addis Ababa</td>\n",
       "      <td>None</td>\n",
       "      <td>None</td>\n",
       "      <td>[0467730206, 0116558830, 2511613426, 011554039...</td>\n",
       "      <td>https://businessguide.ezega.com/Default.aspx?a...</td>\n",
       "      <td>Auto</td>\n",
       "      <td>Shipping Companies</td>\n",
       "    </tr>\n",
       "  </tbody>\n",
       "</table>\n",
       "</div>"
      ],
      "text/plain": [
       "               business_title  \\\n",
       "0         Bagel Corner Bakery   \n",
       "1       AWASH BAR & RESTURANT   \n",
       "2  BITMAS General Trading PLC   \n",
       "3                   ROB VIDEO   \n",
       "4     Tesfa PLWHA Association   \n",
       "\n",
       "                                      business_image  \\\n",
       "0  https://businessguide.ezega.com/images/noimage...   \n",
       "1  https://businessguide.ezega.com/images/noimage...   \n",
       "2  https://businessguide.ezega.com/images/noimage...   \n",
       "3  https://businessguide.ezega.com/images/noimage...   \n",
       "4  https://businessguide.ezega.com/images/noimage...   \n",
       "\n",
       "                                   business_location business_url  \\\n",
       "0                                        Addis Ababa         None   \n",
       "1                                            Mekelle         None   \n",
       "2  Ras Desta Damtwe St. NTO Building, 3rd floor, ...         None   \n",
       "3                                            Mekelle         None   \n",
       "4                                        Addis Ababa         None   \n",
       "\n",
       "  business_description                                   business_numbers  \\\n",
       "0                 None  [0116513067, 0911455510, +251116352780, 011550...   \n",
       "1                 None               [0344402815, 0344418248, 0344415657]   \n",
       "2                 None  [+251115501364, +251911516445+2510911133182, +...   \n",
       "3                 None                                       [0344400112]   \n",
       "4                 None  [0467730206, 0116558830, 2511613426, 011554039...   \n",
       "\n",
       "                                           ezega_url category  \\\n",
       "0  https://businessguide.ezega.com/Default.aspx?a...     Auto   \n",
       "1  https://businessguide.ezega.com/Default.aspx?a...     Auto   \n",
       "2  https://businessguide.ezega.com/Default.aspx?a...     Auto   \n",
       "3  https://businessguide.ezega.com/Default.aspx?a...     Auto   \n",
       "4  https://businessguide.ezega.com/Default.aspx?a...     Auto   \n",
       "\n",
       "         sub_category  \n",
       "0           Resources  \n",
       "1           Resources  \n",
       "2      Water Services  \n",
       "3      Water Services  \n",
       "4  Shipping Companies  "
      ]
     },
     "execution_count": 3,
     "metadata": {},
     "output_type": "execute_result"
    }
   ],
   "source": [
    "df.head()"
   ]
  },
  {
   "cell_type": "markdown",
   "id": "1c6e14c9",
   "metadata": {},
   "source": [
    "As expected, it's a bit messy. \n",
    "\n",
    "At a glance, \n",
    "- `business_url` and `business_description` look like they have a lot of values missing, \n",
    "- the bussiness titles are inconsistently capitalized,\n",
    "- some of the locations are cities while some of them are full addresses\n",
    "- and the bussiness numbers are arrays that seem to be a mix of the Country Code +251 suffix and the simple, local 0 suffix\n",
    "- the categories don't seem super relevant to the companies name so I suspect it wasn't registered properly.\n",
    "\n",
    "And there's probably other stuff that isn't immediately apparent from this quick look through, but let's work on cleaning this up first."
   ]
  },
  {
   "cell_type": "markdown",
   "id": "18983378",
   "metadata": {},
   "source": [
    "## Clean Up"
   ]
  },
  {
   "cell_type": "markdown",
   "id": "e063aea4",
   "metadata": {},
   "source": [
    "### 1. Missing Values\n",
    "\n",
    "> business_url and business_description look like they have a lot of values missing\n",
    "\n",
    "Let's start up by seeing exactly how much is missing, and if there's any other fields that are missing data as well."
   ]
  },
  {
   "cell_type": "code",
   "execution_count": 4,
   "id": "9513f907",
   "metadata": {},
   "outputs": [
    {
     "name": "stdout",
     "output_type": "stream",
     "text": [
      "Number of columns:  8656\n"
     ]
    },
    {
     "data": {
      "text/plain": [
       "business_title             0\n",
       "business_image             0\n",
       "business_location          0\n",
       "business_url            6754\n",
       "business_description    7358\n",
       "business_numbers           0\n",
       "ezega_url                  0\n",
       "category                   0\n",
       "sub_category               0\n",
       "dtype: int64"
      ]
     },
     "execution_count": 4,
     "metadata": {},
     "output_type": "execute_result"
    }
   ],
   "source": [
    "print(\"Number of columns: \", df.shape[0])\n",
    "\n",
    "df.isnull().sum()"
   ]
  },
  {
   "cell_type": "markdown",
   "id": "1843bb79",
   "metadata": {},
   "source": [
    "Okay, that's actually a lot of missing urls and descriptions. Dropping the rows in question isn't an option when they make up over half of our dataset, so we can just replace them with placeholders for now."
   ]
  },
  {
   "cell_type": "code",
   "execution_count": 5,
   "id": "0aecc4c8",
   "metadata": {},
   "outputs": [],
   "source": [
    "df['business_url'] = df['business_url'].fillna('N/A')\n",
    "df['business_description'] = df['business_description'].fillna('No description available')"
   ]
  },
  {
   "cell_type": "markdown",
   "id": "0fca76c1",
   "metadata": {},
   "source": [
    "Let's check again."
   ]
  },
  {
   "cell_type": "code",
   "execution_count": 6,
   "id": "20395bcc",
   "metadata": {},
   "outputs": [
    {
     "data": {
      "text/plain": [
       "business_title          0\n",
       "business_image          0\n",
       "business_location       0\n",
       "business_url            0\n",
       "business_description    0\n",
       "business_numbers        0\n",
       "ezega_url               0\n",
       "category                0\n",
       "sub_category            0\n",
       "dtype: int64"
      ]
     },
     "execution_count": 6,
     "metadata": {},
     "output_type": "execute_result"
    }
   ],
   "source": [
    "df.isnull().sum()"
   ]
  },
  {
   "cell_type": "code",
   "execution_count": 7,
   "id": "68cdbabc",
   "metadata": {},
   "outputs": [
    {
     "data": {
      "text/html": [
       "<div>\n",
       "<style scoped>\n",
       "    .dataframe tbody tr th:only-of-type {\n",
       "        vertical-align: middle;\n",
       "    }\n",
       "\n",
       "    .dataframe tbody tr th {\n",
       "        vertical-align: top;\n",
       "    }\n",
       "\n",
       "    .dataframe thead th {\n",
       "        text-align: right;\n",
       "    }\n",
       "</style>\n",
       "<table border=\"1\" class=\"dataframe\">\n",
       "  <thead>\n",
       "    <tr style=\"text-align: right;\">\n",
       "      <th></th>\n",
       "      <th>business_title</th>\n",
       "      <th>business_image</th>\n",
       "      <th>business_location</th>\n",
       "      <th>business_url</th>\n",
       "      <th>business_description</th>\n",
       "      <th>business_numbers</th>\n",
       "      <th>ezega_url</th>\n",
       "      <th>category</th>\n",
       "      <th>sub_category</th>\n",
       "    </tr>\n",
       "  </thead>\n",
       "  <tbody>\n",
       "    <tr>\n",
       "      <th>0</th>\n",
       "      <td>Bagel Corner Bakery</td>\n",
       "      <td>https://businessguide.ezega.com/images/noimage...</td>\n",
       "      <td>Addis Ababa</td>\n",
       "      <td>N/A</td>\n",
       "      <td>No description available</td>\n",
       "      <td>[0116513067, 0911455510, +251116352780, 011550...</td>\n",
       "      <td>https://businessguide.ezega.com/Default.aspx?a...</td>\n",
       "      <td>Auto</td>\n",
       "      <td>Resources</td>\n",
       "    </tr>\n",
       "    <tr>\n",
       "      <th>1</th>\n",
       "      <td>AWASH BAR &amp; RESTURANT</td>\n",
       "      <td>https://businessguide.ezega.com/images/noimage...</td>\n",
       "      <td>Mekelle</td>\n",
       "      <td>N/A</td>\n",
       "      <td>No description available</td>\n",
       "      <td>[0344402815, 0344418248, 0344415657]</td>\n",
       "      <td>https://businessguide.ezega.com/Default.aspx?a...</td>\n",
       "      <td>Auto</td>\n",
       "      <td>Resources</td>\n",
       "    </tr>\n",
       "    <tr>\n",
       "      <th>2</th>\n",
       "      <td>BITMAS General Trading PLC</td>\n",
       "      <td>https://businessguide.ezega.com/images/noimage...</td>\n",
       "      <td>Ras Desta Damtwe St. NTO Building, 3rd floor, ...</td>\n",
       "      <td>N/A</td>\n",
       "      <td>No description available</td>\n",
       "      <td>[+251115501364, +251911516445+2510911133182, +...</td>\n",
       "      <td>https://businessguide.ezega.com/Default.aspx?a...</td>\n",
       "      <td>Auto</td>\n",
       "      <td>Water Services</td>\n",
       "    </tr>\n",
       "    <tr>\n",
       "      <th>3</th>\n",
       "      <td>ROB VIDEO</td>\n",
       "      <td>https://businessguide.ezega.com/images/noimage...</td>\n",
       "      <td>Mekelle</td>\n",
       "      <td>N/A</td>\n",
       "      <td>No description available</td>\n",
       "      <td>[0344400112]</td>\n",
       "      <td>https://businessguide.ezega.com/Default.aspx?a...</td>\n",
       "      <td>Auto</td>\n",
       "      <td>Water Services</td>\n",
       "    </tr>\n",
       "    <tr>\n",
       "      <th>4</th>\n",
       "      <td>Tesfa PLWHA Association</td>\n",
       "      <td>https://businessguide.ezega.com/images/noimage...</td>\n",
       "      <td>Addis Ababa</td>\n",
       "      <td>N/A</td>\n",
       "      <td>No description available</td>\n",
       "      <td>[0467730206, 0116558830, 2511613426, 011554039...</td>\n",
       "      <td>https://businessguide.ezega.com/Default.aspx?a...</td>\n",
       "      <td>Auto</td>\n",
       "      <td>Shipping Companies</td>\n",
       "    </tr>\n",
       "  </tbody>\n",
       "</table>\n",
       "</div>"
      ],
      "text/plain": [
       "               business_title  \\\n",
       "0         Bagel Corner Bakery   \n",
       "1       AWASH BAR & RESTURANT   \n",
       "2  BITMAS General Trading PLC   \n",
       "3                   ROB VIDEO   \n",
       "4     Tesfa PLWHA Association   \n",
       "\n",
       "                                      business_image  \\\n",
       "0  https://businessguide.ezega.com/images/noimage...   \n",
       "1  https://businessguide.ezega.com/images/noimage...   \n",
       "2  https://businessguide.ezega.com/images/noimage...   \n",
       "3  https://businessguide.ezega.com/images/noimage...   \n",
       "4  https://businessguide.ezega.com/images/noimage...   \n",
       "\n",
       "                                   business_location business_url  \\\n",
       "0                                        Addis Ababa          N/A   \n",
       "1                                            Mekelle          N/A   \n",
       "2  Ras Desta Damtwe St. NTO Building, 3rd floor, ...          N/A   \n",
       "3                                            Mekelle          N/A   \n",
       "4                                        Addis Ababa          N/A   \n",
       "\n",
       "       business_description  \\\n",
       "0  No description available   \n",
       "1  No description available   \n",
       "2  No description available   \n",
       "3  No description available   \n",
       "4  No description available   \n",
       "\n",
       "                                    business_numbers  \\\n",
       "0  [0116513067, 0911455510, +251116352780, 011550...   \n",
       "1               [0344402815, 0344418248, 0344415657]   \n",
       "2  [+251115501364, +251911516445+2510911133182, +...   \n",
       "3                                       [0344400112]   \n",
       "4  [0467730206, 0116558830, 2511613426, 011554039...   \n",
       "\n",
       "                                           ezega_url category  \\\n",
       "0  https://businessguide.ezega.com/Default.aspx?a...     Auto   \n",
       "1  https://businessguide.ezega.com/Default.aspx?a...     Auto   \n",
       "2  https://businessguide.ezega.com/Default.aspx?a...     Auto   \n",
       "3  https://businessguide.ezega.com/Default.aspx?a...     Auto   \n",
       "4  https://businessguide.ezega.com/Default.aspx?a...     Auto   \n",
       "\n",
       "         sub_category  \n",
       "0           Resources  \n",
       "1           Resources  \n",
       "2      Water Services  \n",
       "3      Water Services  \n",
       "4  Shipping Companies  "
      ]
     },
     "execution_count": 7,
     "metadata": {},
     "output_type": "execute_result"
    }
   ],
   "source": [
    "df.head()"
   ]
  },
  {
   "cell_type": "markdown",
   "id": "a060b294",
   "metadata": {},
   "source": [
    "Well that fixes that."
   ]
  },
  {
   "cell_type": "markdown",
   "id": "7d431433",
   "metadata": {},
   "source": [
    "### 2. Cleaning the title\n",
    "\n",
    "> the bussiness titles are inconsistently capitalized,\n",
    "\n",
    "This would be somewhat of a non-issue if I didn't plan on doing some analysis on the names themselves later. And it frankly feels like a tricky issue to solve. Let's look at the column and see what we're working with first."
   ]
  },
  {
   "cell_type": "code",
   "execution_count": 8,
   "id": "f53858ae",
   "metadata": {},
   "outputs": [
    {
     "name": "stdout",
     "output_type": "stream",
     "text": [
      "Number of titles where all the words are capitalized\n",
      "3948\n"
     ]
    }
   ],
   "source": [
    "def is_fully_capitalized(title):\n",
    "    '''\n",
    "    For every bussiness title:\n",
    "    1. Split it into words using space as a separator\n",
    "    2. Count the number of words int he title\n",
    "    3. Check if each word is capital, and count the number of fully capital words\n",
    "    4. If that is equal to the total amount of words then the title is full capitalized, return true\n",
    "    '''\n",
    "    words = title.split()\n",
    "    total_words = len(words)\n",
    "    capitalized_words = sum(word.isupper() for word in words)\n",
    "    return capitalized_words == total_words\n",
    "\n",
    "fully_capitalized_titles = df[df['business_title'].apply(is_fully_capitalized)]\n",
    "\n",
    "print(\"Number of titles where all the words are capitalized\")\n",
    "print(fully_capitalized_titles['business_title'].shape[0])"
   ]
  },
  {
   "cell_type": "markdown",
   "id": "a0770c23",
   "metadata": {},
   "source": [
    "Okay that's nearly half the titles. Not ideal. We also need to work around entity identifiers like PLC (or P.L.C), which themselves are inconsistent and need to be extracted to a different columns besides, so let's do that first.\n",
    "\n"
   ]
  },
  {
   "cell_type": "markdown",
   "id": "879f9ad9",
   "metadata": {},
   "source": [
    "#### 2.1 Extracting Entity Abbreviations"
   ]
  },
  {
   "cell_type": "markdown",
   "id": "2491687f",
   "metadata": {},
   "source": [
    "First let's get a full list of all of these as well as their possible variations, and then use that. But first let's trim any spaces on either side."
   ]
  },
  {
   "cell_type": "code",
   "execution_count": 13,
   "id": "4b3cd2c8",
   "metadata": {},
   "outputs": [
    {
     "name": "stdout",
     "output_type": "stream",
     "text": [
      "Count:  (12,)\n"
     ]
    },
    {
     "data": {
      "text/plain": [
       "1352                            ETHIO OTT WAREN PLC\n",
       "1532                                       SYOM PLC\n",
       "1660                            ETHIO OTT WAREN PLC\n",
       "4316                       KADISCO GENERAL HOSPITAL\n",
       "5885                           AMEGONIAN HOOL P.L.C\n",
       "5940                           AMEGONIAN HOOL P.L.C\n",
       "6074             SAFETY DRIVERS TRAINING HOOL S.CO.\n",
       "6855                               B-AN TRADING PLC\n",
       "6926                               B-AN TRADING PLC\n",
       "6971                                         IT Plc\n",
       "6992      FORTHRITT ELECTRO MECHANICAL SERVICES PLC\n",
       "8435    ETHIOPIAN VENTURES / APPEX BOTTLING CO. PLC\n",
       "Name: business_title, dtype: object"
      ]
     },
     "execution_count": 13,
     "metadata": {},
     "output_type": "execute_result"
    }
   ],
   "source": [
    "# List of substrings to check\n",
    "substrings = ['PLC', 'P.L.C.', 'P.L.C', 'plc', 'plc.', 'Plc', \n",
    "              'S.Co.', 'S.Co', 'S.co.', 'S.CO.', 'S.C', 'SC', 'S.C.',\n",
    "              'LTD.', 'LTD', 'LLC', 'L.L.C', 'PLC.']\n",
    "\n",
    "# Function to check if title contains any substring\n",
    "def contains_pattern(title):\n",
    "    for substring in substrings:\n",
    "        if substring in title:\n",
    "            return True\n",
    "    return False\n",
    "\n",
    "# Filter DataFrame based on the substrings\n",
    "titles_with_pattern = df[df['business_title'].apply(contains_pattern)]\n",
    "\n",
    "print(\"Count: \", titles_with_pattern['business_title'].shape)\n",
    "\n",
    "titles_with_pattern['business_title']"
   ]
  },
  {
   "cell_type": "markdown",
   "id": "ccd94aea",
   "metadata": {},
   "source": [
    "Let's work on extracting them to their own column, titled `business_entity_type`. \n",
    "\n",
    "This probably didn't catch everything but we'll refine it later, for now let's just move it out."
   ]
  },
  {
   "cell_type": "code",
   "execution_count": 10,
   "id": "92d8a2eb",
   "metadata": {},
   "outputs": [],
   "source": [
    "#df[['business_title', 'entity_identifier' ]].iloc[5885]"
   ]
  },
  {
   "cell_type": "code",
   "execution_count": 11,
   "id": "0a3deadb",
   "metadata": {},
   "outputs": [
    {
     "data": {
      "text/html": [
       "<div>\n",
       "<style scoped>\n",
       "    .dataframe tbody tr th:only-of-type {\n",
       "        vertical-align: middle;\n",
       "    }\n",
       "\n",
       "    .dataframe tbody tr th {\n",
       "        vertical-align: top;\n",
       "    }\n",
       "\n",
       "    .dataframe thead th {\n",
       "        text-align: right;\n",
       "    }\n",
       "</style>\n",
       "<table border=\"1\" class=\"dataframe\">\n",
       "  <thead>\n",
       "    <tr style=\"text-align: right;\">\n",
       "      <th></th>\n",
       "      <th>business_title</th>\n",
       "      <th>entity_identifier</th>\n",
       "    </tr>\n",
       "  </thead>\n",
       "  <tbody>\n",
       "    <tr>\n",
       "      <th>0</th>\n",
       "      <td>Bagel Corner Bakery</td>\n",
       "      <td>NaN</td>\n",
       "    </tr>\n",
       "    <tr>\n",
       "      <th>1</th>\n",
       "      <td>AWASH BAR &amp; RESTURANT</td>\n",
       "      <td>NaN</td>\n",
       "    </tr>\n",
       "    <tr>\n",
       "      <th>2</th>\n",
       "      <td>BITMAS General Trading</td>\n",
       "      <td>PLC</td>\n",
       "    </tr>\n",
       "    <tr>\n",
       "      <th>3</th>\n",
       "      <td>ROB VIDEO</td>\n",
       "      <td>NaN</td>\n",
       "    </tr>\n",
       "    <tr>\n",
       "      <th>4</th>\n",
       "      <td>Tesfa PLWHA Association</td>\n",
       "      <td>NaN</td>\n",
       "    </tr>\n",
       "    <tr>\n",
       "      <th>...</th>\n",
       "      <td>...</td>\n",
       "      <td>...</td>\n",
       "    </tr>\n",
       "    <tr>\n",
       "      <th>8651</th>\n",
       "      <td>ADA DAIRY COOPERATIVE SOCIETY</td>\n",
       "      <td>NaN</td>\n",
       "    </tr>\n",
       "    <tr>\n",
       "      <th>8652</th>\n",
       "      <td>Addis International Catering</td>\n",
       "      <td>Plc</td>\n",
       "    </tr>\n",
       "    <tr>\n",
       "      <th>8653</th>\n",
       "      <td>SOURIISH MARBLES</td>\n",
       "      <td>PLC</td>\n",
       "    </tr>\n",
       "    <tr>\n",
       "      <th>8654</th>\n",
       "      <td>ADAMA DEVELOPMENT</td>\n",
       "      <td>P.L.C</td>\n",
       "    </tr>\n",
       "    <tr>\n",
       "      <th>8655</th>\n",
       "      <td>ADDIS ABABA TANNERY o</td>\n",
       "      <td>S.C</td>\n",
       "    </tr>\n",
       "  </tbody>\n",
       "</table>\n",
       "<p>8656 rows × 2 columns</p>\n",
       "</div>"
      ],
      "text/plain": [
       "                     business_title entity_identifier\n",
       "0               Bagel Corner Bakery               NaN\n",
       "1             AWASH BAR & RESTURANT               NaN\n",
       "2            BITMAS General Trading               PLC\n",
       "3                         ROB VIDEO               NaN\n",
       "4           Tesfa PLWHA Association               NaN\n",
       "...                             ...               ...\n",
       "8651  ADA DAIRY COOPERATIVE SOCIETY               NaN\n",
       "8652   Addis International Catering               Plc\n",
       "8653               SOURIISH MARBLES               PLC\n",
       "8654              ADAMA DEVELOPMENT             P.L.C\n",
       "8655          ADDIS ABABA TANNERY o               S.C\n",
       "\n",
       "[8656 rows x 2 columns]"
      ]
     },
     "execution_count": 11,
     "metadata": {},
     "output_type": "execute_result"
    }
   ],
   "source": [
    "for index, row in df.iterrows():\n",
    "    for substring in substrings:\n",
    "        if substring in row['business_title']:\n",
    "            df.at[index, 'entity_identifier'] = substring\n",
    "            df.at[index, 'business_title'] = row['business_title'].replace(substring, '').replace(substring, '').strip()\n",
    "        if substring in row['business_title']:\n",
    "            df.at[index, 'entity_identifier'] = substring\n",
    "            df.at[index, 'business_title'] = row['business_title'].replace(substring, '').replace(substring, '').strip()\n",
    "\n",
    "df[['business_title', 'entity_identifier' ]]"
   ]
  },
  {
   "cell_type": "code",
   "execution_count": 12,
   "id": "39a58d48",
   "metadata": {},
   "outputs": [
    {
     "data": {
      "text/plain": [
       "business_title       8656\n",
       "entity_identifier    2210\n",
       "dtype: int64"
      ]
     },
     "execution_count": 12,
     "metadata": {},
     "output_type": "execute_result"
    }
   ],
   "source": [
    "df[['business_title', 'entity_identifier']].notnull().sum()"
   ]
  },
  {
   "cell_type": "markdown",
   "id": "cfa680a4",
   "metadata": {},
   "source": [
    "Okay, I'd say we got about a fourth of the dataset with that operation. Let's crawl a bit through the others and see if there's any other identifiers we can pick up. \n",
    "\n",
    "It's not feasible to go title by title, so we'll have to look for shortcuts like say look for substrings that are smaller 3 letters or sub-strings that have periods in them."
   ]
  }
 ],
 "metadata": {
  "kernelspec": {
   "display_name": "Python 3 (ipykernel)",
   "language": "python",
   "name": "python3"
  },
  "language_info": {
   "codemirror_mode": {
    "name": "ipython",
    "version": 3
   },
   "file_extension": ".py",
   "mimetype": "text/x-python",
   "name": "python",
   "nbconvert_exporter": "python",
   "pygments_lexer": "ipython3",
   "version": "3.11.5"
  }
 },
 "nbformat": 4,
 "nbformat_minor": 5
}
