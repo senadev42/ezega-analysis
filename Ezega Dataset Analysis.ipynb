{
 "cells": [
  {
   "cell_type": "markdown",
   "id": "a01c89fb",
   "metadata": {},
   "source": [
    "# Ezega Data Analysis\n",
    "\n",
    "Author: [Meheret Samuel](https://github.com/senadev42)\n",
    "\n",
    "<hr>\n",
    "\n",
    "### The Pre-amble\n",
    "A few months ago a friend of mine, [Kidus](https://github.com/kidesleo),  decided to scrape ezega.com, which is a sort of index for bussinesses in ethiopia. The result was a jsonl file with about 8k entries that I've been sitting on with the vague goal of looking into but not finding the time to.\n",
    "\n",
    "Finally have time now, and while doing data analysis with clean datasets taken off the internet has been fun, it's not time to work with something dirty and real.\n"
   ]
  },
  {
   "cell_type": "markdown",
   "id": "b59b0d03",
   "metadata": {},
   "source": [
    "## Setting Up\n",
    "\n",
    "First let's import the libraries we're going to be using."
   ]
  },
  {
   "cell_type": "code",
   "execution_count": null,
   "id": "b33de667",
   "metadata": {},
   "outputs": [],
   "source": [
    "import pandas as pd"
   ]
  },
  {
   "cell_type": "markdown",
   "id": "34396398",
   "metadata": {},
   "source": [
    "And then the file itself, setting lines=True to indicate that newlines are being used as a delimiter here because this is jsonl."
   ]
  },
  {
   "cell_type": "code",
   "execution_count": 2,
   "id": "791c3ae7",
   "metadata": {},
   "outputs": [],
   "source": [
    "df = pd.read_json('ezega_data.jsonl', lines=True)"
   ]
  },
  {
   "cell_type": "markdown",
   "id": "17302ff2",
   "metadata": {},
   "source": [
    "Now let's take a peek at our data set."
   ]
  },
  {
   "cell_type": "code",
   "execution_count": 6,
   "id": "ec03cf8d",
   "metadata": {
    "scrolled": false
   },
   "outputs": [
    {
     "data": {
      "text/html": [
       "<div>\n",
       "<style scoped>\n",
       "    .dataframe tbody tr th:only-of-type {\n",
       "        vertical-align: middle;\n",
       "    }\n",
       "\n",
       "    .dataframe tbody tr th {\n",
       "        vertical-align: top;\n",
       "    }\n",
       "\n",
       "    .dataframe thead th {\n",
       "        text-align: right;\n",
       "    }\n",
       "</style>\n",
       "<table border=\"1\" class=\"dataframe\">\n",
       "  <thead>\n",
       "    <tr style=\"text-align: right;\">\n",
       "      <th></th>\n",
       "      <th>business_title</th>\n",
       "      <th>business_image</th>\n",
       "      <th>business_location</th>\n",
       "      <th>business_url</th>\n",
       "      <th>business_description</th>\n",
       "      <th>business_numbers</th>\n",
       "      <th>ezega_url</th>\n",
       "      <th>category</th>\n",
       "      <th>sub_category</th>\n",
       "    </tr>\n",
       "  </thead>\n",
       "  <tbody>\n",
       "    <tr>\n",
       "      <th>0</th>\n",
       "      <td>Bagel Corner Bakery</td>\n",
       "      <td>https://businessguide.ezega.com/images/noimage...</td>\n",
       "      <td>Addis Ababa</td>\n",
       "      <td>None</td>\n",
       "      <td>None</td>\n",
       "      <td>[0116513067, 0911455510, +251116352780, 011550...</td>\n",
       "      <td>https://businessguide.ezega.com/Default.aspx?a...</td>\n",
       "      <td>Auto</td>\n",
       "      <td>Resources</td>\n",
       "    </tr>\n",
       "    <tr>\n",
       "      <th>1</th>\n",
       "      <td>AWASH BAR &amp; RESTURANT</td>\n",
       "      <td>https://businessguide.ezega.com/images/noimage...</td>\n",
       "      <td>Mekelle</td>\n",
       "      <td>None</td>\n",
       "      <td>None</td>\n",
       "      <td>[0344402815, 0344418248, 0344415657]</td>\n",
       "      <td>https://businessguide.ezega.com/Default.aspx?a...</td>\n",
       "      <td>Auto</td>\n",
       "      <td>Resources</td>\n",
       "    </tr>\n",
       "    <tr>\n",
       "      <th>2</th>\n",
       "      <td>BITMAS General Trading PLC</td>\n",
       "      <td>https://businessguide.ezega.com/images/noimage...</td>\n",
       "      <td>Ras Desta Damtwe St. NTO Building, 3rd floor, ...</td>\n",
       "      <td>None</td>\n",
       "      <td>None</td>\n",
       "      <td>[+251115501364, +251911516445+2510911133182, +...</td>\n",
       "      <td>https://businessguide.ezega.com/Default.aspx?a...</td>\n",
       "      <td>Auto</td>\n",
       "      <td>Water Services</td>\n",
       "    </tr>\n",
       "    <tr>\n",
       "      <th>3</th>\n",
       "      <td>ROB VIDEO</td>\n",
       "      <td>https://businessguide.ezega.com/images/noimage...</td>\n",
       "      <td>Mekelle</td>\n",
       "      <td>None</td>\n",
       "      <td>None</td>\n",
       "      <td>[0344400112]</td>\n",
       "      <td>https://businessguide.ezega.com/Default.aspx?a...</td>\n",
       "      <td>Auto</td>\n",
       "      <td>Water Services</td>\n",
       "    </tr>\n",
       "    <tr>\n",
       "      <th>4</th>\n",
       "      <td>Tesfa PLWHA Association</td>\n",
       "      <td>https://businessguide.ezega.com/images/noimage...</td>\n",
       "      <td>Addis Ababa</td>\n",
       "      <td>None</td>\n",
       "      <td>None</td>\n",
       "      <td>[0467730206, 0116558830, 2511613426, 011554039...</td>\n",
       "      <td>https://businessguide.ezega.com/Default.aspx?a...</td>\n",
       "      <td>Auto</td>\n",
       "      <td>Shipping Companies</td>\n",
       "    </tr>\n",
       "  </tbody>\n",
       "</table>\n",
       "</div>"
      ],
      "text/plain": [
       "               business_title  \\\n",
       "0         Bagel Corner Bakery   \n",
       "1       AWASH BAR & RESTURANT   \n",
       "2  BITMAS General Trading PLC   \n",
       "3                   ROB VIDEO   \n",
       "4     Tesfa PLWHA Association   \n",
       "\n",
       "                                      business_image  \\\n",
       "0  https://businessguide.ezega.com/images/noimage...   \n",
       "1  https://businessguide.ezega.com/images/noimage...   \n",
       "2  https://businessguide.ezega.com/images/noimage...   \n",
       "3  https://businessguide.ezega.com/images/noimage...   \n",
       "4  https://businessguide.ezega.com/images/noimage...   \n",
       "\n",
       "                                   business_location business_url  \\\n",
       "0                                        Addis Ababa         None   \n",
       "1                                            Mekelle         None   \n",
       "2  Ras Desta Damtwe St. NTO Building, 3rd floor, ...         None   \n",
       "3                                            Mekelle         None   \n",
       "4                                        Addis Ababa         None   \n",
       "\n",
       "  business_description                                   business_numbers  \\\n",
       "0                 None  [0116513067, 0911455510, +251116352780, 011550...   \n",
       "1                 None               [0344402815, 0344418248, 0344415657]   \n",
       "2                 None  [+251115501364, +251911516445+2510911133182, +...   \n",
       "3                 None                                       [0344400112]   \n",
       "4                 None  [0467730206, 0116558830, 2511613426, 011554039...   \n",
       "\n",
       "                                           ezega_url category  \\\n",
       "0  https://businessguide.ezega.com/Default.aspx?a...     Auto   \n",
       "1  https://businessguide.ezega.com/Default.aspx?a...     Auto   \n",
       "2  https://businessguide.ezega.com/Default.aspx?a...     Auto   \n",
       "3  https://businessguide.ezega.com/Default.aspx?a...     Auto   \n",
       "4  https://businessguide.ezega.com/Default.aspx?a...     Auto   \n",
       "\n",
       "         sub_category  \n",
       "0           Resources  \n",
       "1           Resources  \n",
       "2      Water Services  \n",
       "3      Water Services  \n",
       "4  Shipping Companies  "
      ]
     },
     "execution_count": 6,
     "metadata": {},
     "output_type": "execute_result"
    }
   ],
   "source": [
    "df.head()"
   ]
  },
  {
   "cell_type": "markdown",
   "id": "15358082",
   "metadata": {},
   "source": [
    "As expected, it's a bit messy. \n",
    "\n",
    "At a glance, \n",
    "- `business_url` and `business_description` look like they have a lot of values missing, \n",
    "- the bussiness titles are inconsistently capitalized,\n",
    "- some of the locations are cities while some of them are full addresses\n",
    "- and the bussiness numbers are arrays that seem to be a mix of the Country Code +251 suffix and the simple, local 0 suffix.\n",
    "\n",
    "And there's probably other stuff that isn't immediately apparent from this quick look through, but let's work on cleaning this up first."
   ]
  }
 ],
 "metadata": {
  "kernelspec": {
   "display_name": "Python 3 (ipykernel)",
   "language": "python",
   "name": "python3"
  },
  "language_info": {
   "codemirror_mode": {
    "name": "ipython",
    "version": 3
   },
   "file_extension": ".py",
   "mimetype": "text/x-python",
   "name": "python",
   "nbconvert_exporter": "python",
   "pygments_lexer": "ipython3",
   "version": "3.11.5"
  }
 },
 "nbformat": 4,
 "nbformat_minor": 5
}
